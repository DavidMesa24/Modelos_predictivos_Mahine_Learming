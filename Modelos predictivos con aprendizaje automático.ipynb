{
 "cells": [
  {
   "cell_type": "markdown",
   "id": "1b14b98c",
   "metadata": {},
   "source": [
    "# Modelos predictivos con aprendizaje automático "
   ]
  },
  {
   "cell_type": "markdown",
   "id": "966fb76d",
   "metadata": {},
   "source": [
    "## Author: David Mesa\n",
    "ds.mesa10@uniandes.edu.co"
   ]
  },
  {
   "cell_type": "markdown",
   "id": "02cdd125",
   "metadata": {},
   "source": [
    "## 1. Entendimiento de datos"
   ]
  },
  {
   "cell_type": "code",
   "execution_count": 114,
   "id": "69b4ac33",
   "metadata": {},
   "outputs": [
    {
     "data": {
      "text/html": [
       "<div>\n",
       "<style scoped>\n",
       "    .dataframe tbody tr th:only-of-type {\n",
       "        vertical-align: middle;\n",
       "    }\n",
       "\n",
       "    .dataframe tbody tr th {\n",
       "        vertical-align: top;\n",
       "    }\n",
       "\n",
       "    .dataframe thead th {\n",
       "        text-align: right;\n",
       "    }\n",
       "</style>\n",
       "<table border=\"1\" class=\"dataframe\">\n",
       "  <thead>\n",
       "    <tr style=\"text-align: right;\">\n",
       "      <th></th>\n",
       "      <th>numero_cuartos</th>\n",
       "      <th>numero_baños</th>\n",
       "      <th>area_de_ construcción_pie2</th>\n",
       "      <th>area_del lote_pie2</th>\n",
       "      <th>numero_pisos</th>\n",
       "      <th>condición</th>\n",
       "      <th>grado</th>\n",
       "      <th>superficie_sótano_pie2</th>\n",
       "      <th>año_de_construcción</th>\n",
       "      <th>precio</th>\n",
       "    </tr>\n",
       "  </thead>\n",
       "  <tbody>\n",
       "    <tr>\n",
       "      <th>0</th>\n",
       "      <td>3</td>\n",
       "      <td>1</td>\n",
       "      <td>1180</td>\n",
       "      <td>5650</td>\n",
       "      <td>1</td>\n",
       "      <td>3</td>\n",
       "      <td>7</td>\n",
       "      <td>0</td>\n",
       "      <td>1955</td>\n",
       "      <td>221900</td>\n",
       "    </tr>\n",
       "    <tr>\n",
       "      <th>1</th>\n",
       "      <td>2</td>\n",
       "      <td>1</td>\n",
       "      <td>770</td>\n",
       "      <td>10000</td>\n",
       "      <td>1</td>\n",
       "      <td>3</td>\n",
       "      <td>6</td>\n",
       "      <td>0</td>\n",
       "      <td>1933</td>\n",
       "      <td>180000</td>\n",
       "    </tr>\n",
       "    <tr>\n",
       "      <th>2</th>\n",
       "      <td>4</td>\n",
       "      <td>3</td>\n",
       "      <td>1960</td>\n",
       "      <td>5000</td>\n",
       "      <td>1</td>\n",
       "      <td>5</td>\n",
       "      <td>7</td>\n",
       "      <td>910</td>\n",
       "      <td>1965</td>\n",
       "      <td>604000</td>\n",
       "    </tr>\n",
       "    <tr>\n",
       "      <th>3</th>\n",
       "      <td>3</td>\n",
       "      <td>2</td>\n",
       "      <td>1680</td>\n",
       "      <td>8080</td>\n",
       "      <td>1</td>\n",
       "      <td>3</td>\n",
       "      <td>8</td>\n",
       "      <td>0</td>\n",
       "      <td>1987</td>\n",
       "      <td>510000</td>\n",
       "    </tr>\n",
       "    <tr>\n",
       "      <th>4</th>\n",
       "      <td>3</td>\n",
       "      <td>1</td>\n",
       "      <td>1780</td>\n",
       "      <td>7470</td>\n",
       "      <td>1</td>\n",
       "      <td>3</td>\n",
       "      <td>7</td>\n",
       "      <td>730</td>\n",
       "      <td>1960</td>\n",
       "      <td>229500</td>\n",
       "    </tr>\n",
       "  </tbody>\n",
       "</table>\n",
       "</div>"
      ],
      "text/plain": [
       "   numero_cuartos  numero_baños  area_de_ construcción_pie2  \\\n",
       "0               3             1                        1180   \n",
       "1               2             1                         770   \n",
       "2               4             3                        1960   \n",
       "3               3             2                        1680   \n",
       "4               3             1                        1780   \n",
       "\n",
       "   area_del lote_pie2  numero_pisos  condición  grado  superficie_sótano_pie2  \\\n",
       "0                5650             1          3      7                       0   \n",
       "1               10000             1          3      6                       0   \n",
       "2                5000             1          5      7                     910   \n",
       "3                8080             1          3      8                       0   \n",
       "4                7470             1          3      7                     730   \n",
       "\n",
       "   año_de_construcción  precio  \n",
       "0                 1955  221900  \n",
       "1                 1933  180000  \n",
       "2                 1965  604000  \n",
       "3                 1987  510000  \n",
       "4                 1960  229500  "
      ]
     },
     "execution_count": 114,
     "metadata": {},
     "output_type": "execute_result"
    }
   ],
   "source": [
    "#importar librerias y data necearia\n",
    "import pandas as pd\n",
    "import pandas_profiling as pf\n",
    "import matplotlib.pyplot as plt\n",
    "data = pd.read_csv('venta_inmuebles_data.csv', sep=';')\n",
    "data.head()"
   ]
  },
  {
   "cell_type": "code",
   "execution_count": 115,
   "id": "0dca257b",
   "metadata": {},
   "outputs": [
    {
     "data": {
      "text/plain": [
       "(5466, 10)"
      ]
     },
     "execution_count": 115,
     "metadata": {},
     "output_type": "execute_result"
    }
   ],
   "source": [
    "#Podemos obtener el tamaño de la data, tenemos 5466 datos cada uno con 10 columnas\n",
    "data.shape"
   ]
  },
  {
   "cell_type": "markdown",
   "id": "476d962a",
   "metadata": {},
   "source": [
    "## 2. Descripción de los datos"
   ]
  },
  {
   "cell_type": "code",
   "execution_count": 90,
   "id": "9b16946f",
   "metadata": {},
   "outputs": [
    {
     "data": {
      "text/html": [
       "<div>\n",
       "<style scoped>\n",
       "    .dataframe tbody tr th:only-of-type {\n",
       "        vertical-align: middle;\n",
       "    }\n",
       "\n",
       "    .dataframe tbody tr th {\n",
       "        vertical-align: top;\n",
       "    }\n",
       "\n",
       "    .dataframe thead th {\n",
       "        text-align: right;\n",
       "    }\n",
       "</style>\n",
       "<table border=\"1\" class=\"dataframe\">\n",
       "  <thead>\n",
       "    <tr style=\"text-align: right;\">\n",
       "      <th></th>\n",
       "      <th>numero_cuartos</th>\n",
       "      <th>numero_baños</th>\n",
       "      <th>area_de_ construcción_pie2</th>\n",
       "      <th>area_del lote_pie2</th>\n",
       "      <th>numero_pisos</th>\n",
       "      <th>condición</th>\n",
       "      <th>grado</th>\n",
       "      <th>superficie_sótano_pie2</th>\n",
       "      <th>año_de_construcción</th>\n",
       "      <th>precio</th>\n",
       "    </tr>\n",
       "  </thead>\n",
       "  <tbody>\n",
       "    <tr>\n",
       "      <th>count</th>\n",
       "      <td>5466.000000</td>\n",
       "      <td>5466.00000</td>\n",
       "      <td>5466.000000</td>\n",
       "      <td>5.466000e+03</td>\n",
       "      <td>5466.000000</td>\n",
       "      <td>5466.000000</td>\n",
       "      <td>5466.000000</td>\n",
       "      <td>5466.000000</td>\n",
       "      <td>5466.000000</td>\n",
       "      <td>5.466000e+03</td>\n",
       "    </tr>\n",
       "    <tr>\n",
       "      <th>mean</th>\n",
       "      <td>2.929382</td>\n",
       "      <td>1.53659</td>\n",
       "      <td>1498.602452</td>\n",
       "      <td>1.332597e+04</td>\n",
       "      <td>1.174716</td>\n",
       "      <td>3.454812</td>\n",
       "      <td>6.923710</td>\n",
       "      <td>199.205452</td>\n",
       "      <td>1957.169411</td>\n",
       "      <td>3.876553e+05</td>\n",
       "    </tr>\n",
       "    <tr>\n",
       "      <th>std</th>\n",
       "      <td>0.955433</td>\n",
       "      <td>0.73386</td>\n",
       "      <td>681.509065</td>\n",
       "      <td>4.500415e+04</td>\n",
       "      <td>0.420896</td>\n",
       "      <td>0.695475</td>\n",
       "      <td>0.910364</td>\n",
       "      <td>359.221943</td>\n",
       "      <td>26.314611</td>\n",
       "      <td>1.790408e+05</td>\n",
       "    </tr>\n",
       "    <tr>\n",
       "      <th>min</th>\n",
       "      <td>0.000000</td>\n",
       "      <td>0.00000</td>\n",
       "      <td>290.000000</td>\n",
       "      <td>6.000000e+02</td>\n",
       "      <td>1.000000</td>\n",
       "      <td>1.000000</td>\n",
       "      <td>1.000000</td>\n",
       "      <td>0.000000</td>\n",
       "      <td>1900.000000</td>\n",
       "      <td>7.500000e+04</td>\n",
       "    </tr>\n",
       "    <tr>\n",
       "      <th>25%</th>\n",
       "      <td>2.000000</td>\n",
       "      <td>1.00000</td>\n",
       "      <td>1020.000000</td>\n",
       "      <td>5.100000e+03</td>\n",
       "      <td>1.000000</td>\n",
       "      <td>3.000000</td>\n",
       "      <td>6.000000</td>\n",
       "      <td>0.000000</td>\n",
       "      <td>1942.000000</td>\n",
       "      <td>2.510000e+05</td>\n",
       "    </tr>\n",
       "    <tr>\n",
       "      <th>50%</th>\n",
       "      <td>3.000000</td>\n",
       "      <td>1.00000</td>\n",
       "      <td>1320.000000</td>\n",
       "      <td>7.351000e+03</td>\n",
       "      <td>1.000000</td>\n",
       "      <td>3.000000</td>\n",
       "      <td>7.000000</td>\n",
       "      <td>0.000000</td>\n",
       "      <td>1955.000000</td>\n",
       "      <td>3.500000e+05</td>\n",
       "    </tr>\n",
       "    <tr>\n",
       "      <th>75%</th>\n",
       "      <td>3.000000</td>\n",
       "      <td>2.00000</td>\n",
       "      <td>1780.000000</td>\n",
       "      <td>9.714750e+03</td>\n",
       "      <td>1.000000</td>\n",
       "      <td>4.000000</td>\n",
       "      <td>7.000000</td>\n",
       "      <td>300.000000</td>\n",
       "      <td>1973.750000</td>\n",
       "      <td>4.798000e+05</td>\n",
       "    </tr>\n",
       "    <tr>\n",
       "      <th>max</th>\n",
       "      <td>11.000000</td>\n",
       "      <td>6.00000</td>\n",
       "      <td>7120.000000</td>\n",
       "      <td>1.651359e+06</td>\n",
       "      <td>3.000000</td>\n",
       "      <td>5.000000</td>\n",
       "      <td>12.000000</td>\n",
       "      <td>2196.000000</td>\n",
       "      <td>2015.000000</td>\n",
       "      <td>2.000000e+06</td>\n",
       "    </tr>\n",
       "  </tbody>\n",
       "</table>\n",
       "</div>"
      ],
      "text/plain": [
       "       numero_cuartos  numero_baños  area_de_ construcción_pie2  \\\n",
       "count     5466.000000    5466.00000                 5466.000000   \n",
       "mean         2.929382       1.53659                 1498.602452   \n",
       "std          0.955433       0.73386                  681.509065   \n",
       "min          0.000000       0.00000                  290.000000   \n",
       "25%          2.000000       1.00000                 1020.000000   \n",
       "50%          3.000000       1.00000                 1320.000000   \n",
       "75%          3.000000       2.00000                 1780.000000   \n",
       "max         11.000000       6.00000                 7120.000000   \n",
       "\n",
       "       area_del lote_pie2  numero_pisos    condición        grado  \\\n",
       "count        5.466000e+03   5466.000000  5466.000000  5466.000000   \n",
       "mean         1.332597e+04      1.174716     3.454812     6.923710   \n",
       "std          4.500415e+04      0.420896     0.695475     0.910364   \n",
       "min          6.000000e+02      1.000000     1.000000     1.000000   \n",
       "25%          5.100000e+03      1.000000     3.000000     6.000000   \n",
       "50%          7.351000e+03      1.000000     3.000000     7.000000   \n",
       "75%          9.714750e+03      1.000000     4.000000     7.000000   \n",
       "max          1.651359e+06      3.000000     5.000000    12.000000   \n",
       "\n",
       "       superficie_sótano_pie2  año_de_construcción        precio  \n",
       "count             5466.000000          5466.000000  5.466000e+03  \n",
       "mean               199.205452          1957.169411  3.876553e+05  \n",
       "std                359.221943            26.314611  1.790408e+05  \n",
       "min                  0.000000          1900.000000  7.500000e+04  \n",
       "25%                  0.000000          1942.000000  2.510000e+05  \n",
       "50%                  0.000000          1955.000000  3.500000e+05  \n",
       "75%                300.000000          1973.750000  4.798000e+05  \n",
       "max               2196.000000          2015.000000  2.000000e+06  "
      ]
     },
     "execution_count": 90,
     "metadata": {},
     "output_type": "execute_result"
    }
   ],
   "source": [
    "#Se realiza el perfilamiento de los datos numérico\n",
    "data.describe()"
   ]
  },
  {
   "cell_type": "code",
   "execution_count": 91,
   "id": "5d9befd0",
   "metadata": {},
   "outputs": [
    {
     "data": {
      "image/png": "[encoded data removed]",
      "text/plain": [
       "<Figure size 720x720 with 1 Axes>"
      ]
     },
     "metadata": {},
     "output_type": "display_data"
    }
   ],
   "source": [
    "#Número de habiatciones en un gráfico de barras\n",
    "plt.figure(figsize=(10,10))\n",
    "plt.bar(data['numero_cuartos'].unique(), data['numero_cuartos'].value_counts())\n",
    "plt.title('Número de habitaciones')\n",
    "plt.show()"
   ]
  },
  {
   "cell_type": "code",
   "execution_count": 92,
   "id": "4a67e25b",
   "metadata": {},
   "outputs": [
    {
     "data": {
      "image/png": "[encoded data removed]",
      "text/plain": [
       "<Figure size 720x720 with 1 Axes>"
      ]
     },
     "metadata": {},
     "output_type": "display_data"
    }
   ],
   "source": [
    "#Precio de las viviendas en un histograma\n",
    "plt.figure(figsize=(10,10))\n",
    "plt.hist(data['precio'], bins = 20)\n",
    "plt.title('Precio')\n",
    "plt.show()"
   ]
  },
  {
   "cell_type": "code",
   "execution_count": 93,
   "id": "0e6ac931",
   "metadata": {},
   "outputs": [
    {
     "data": {
      "image/png": "[encoded data removed]",
      "text/plain": [
       "<Figure size 720x720 with 1 Axes>"
      ]
     },
     "metadata": {},
     "output_type": "display_data"
    }
   ],
   "source": [
    "#Grafico de dispersión enre la variable price y la variable area de construcción\n",
    "plt.figure(figsize=(10,10))\n",
    "plt.plot(data['area_de_ construcción_pie2'], data['precio'], '.', color='blue')\n",
    "plt.xlabel('Area de construcción pie2')\n",
    "plt.ylabel('precio*10^6 -1 = 1M-')\n",
    "plt.show()"
   ]
  },
  {
   "cell_type": "markdown",
   "id": "97da0bd7",
   "metadata": {},
   "source": [
    "## 3. Modelo de Regresión Lineal\n",
    "Para predicción de precio según ciertas características.\n",
    "Una vez realizado el entendimiento de los datos, procederemos a hacer nuestro primer modelo de regresión lineal. "
   ]
  },
  {
   "cell_type": "code",
   "execution_count": 94,
   "id": "5c725eec",
   "metadata": {},
   "outputs": [],
   "source": [
    "##Importamos las librerias necesarias para continuar con el modelo anterior.\n",
    "import os\n",
    "import numpy as np\n",
    "# Librerias para aprendizaje autónomo\n",
    "# Para la separación del conjunto de entrenamiento y test\n",
    "from sklearn.model_selection import train_test_split\n",
    "# Para contrur un modelo de regresión lineal \n",
    "from sklearn.linear_model import LinearRegression\n",
    "# Para determinar el rendimiento del modelo con MSE, MAE y R2\n",
    "from sklearn.metrics import mean_squared_error, mean_absolute_error, r2_score\n",
    "#Para sacar un reporte estadístico\n",
    "import statsmodels.api as sm"
   ]
  },
  {
   "cell_type": "code",
   "execution_count": 95,
   "id": "95751b8b",
   "metadata": {},
   "outputs": [
    {
     "data": {
      "text/html": [
       "<div>\n",
       "<style scoped>\n",
       "    .dataframe tbody tr th:only-of-type {\n",
       "        vertical-align: middle;\n",
       "    }\n",
       "\n",
       "    .dataframe tbody tr th {\n",
       "        vertical-align: top;\n",
       "    }\n",
       "\n",
       "    .dataframe thead th {\n",
       "        text-align: right;\n",
       "    }\n",
       "</style>\n",
       "<table border=\"1\" class=\"dataframe\">\n",
       "  <thead>\n",
       "    <tr style=\"text-align: right;\">\n",
       "      <th></th>\n",
       "      <th>numero_cuartos</th>\n",
       "      <th>numero_baños</th>\n",
       "      <th>area_de_ construcción_pie2</th>\n",
       "      <th>area_del lote_pie2</th>\n",
       "      <th>numero_pisos</th>\n",
       "      <th>condición</th>\n",
       "      <th>grado</th>\n",
       "      <th>superficie_sótano_pie2</th>\n",
       "      <th>año_de_construcción</th>\n",
       "      <th>precio</th>\n",
       "    </tr>\n",
       "  </thead>\n",
       "  <tbody>\n",
       "    <tr>\n",
       "      <th>0</th>\n",
       "      <td>3</td>\n",
       "      <td>1</td>\n",
       "      <td>1180</td>\n",
       "      <td>5650</td>\n",
       "      <td>1</td>\n",
       "      <td>3</td>\n",
       "      <td>7</td>\n",
       "      <td>0</td>\n",
       "      <td>1955</td>\n",
       "      <td>221900</td>\n",
       "    </tr>\n",
       "    <tr>\n",
       "      <th>1</th>\n",
       "      <td>2</td>\n",
       "      <td>1</td>\n",
       "      <td>770</td>\n",
       "      <td>10000</td>\n",
       "      <td>1</td>\n",
       "      <td>3</td>\n",
       "      <td>6</td>\n",
       "      <td>0</td>\n",
       "      <td>1933</td>\n",
       "      <td>180000</td>\n",
       "    </tr>\n",
       "    <tr>\n",
       "      <th>2</th>\n",
       "      <td>4</td>\n",
       "      <td>3</td>\n",
       "      <td>1960</td>\n",
       "      <td>5000</td>\n",
       "      <td>1</td>\n",
       "      <td>5</td>\n",
       "      <td>7</td>\n",
       "      <td>910</td>\n",
       "      <td>1965</td>\n",
       "      <td>604000</td>\n",
       "    </tr>\n",
       "    <tr>\n",
       "      <th>3</th>\n",
       "      <td>3</td>\n",
       "      <td>2</td>\n",
       "      <td>1680</td>\n",
       "      <td>8080</td>\n",
       "      <td>1</td>\n",
       "      <td>3</td>\n",
       "      <td>8</td>\n",
       "      <td>0</td>\n",
       "      <td>1987</td>\n",
       "      <td>510000</td>\n",
       "    </tr>\n",
       "    <tr>\n",
       "      <th>4</th>\n",
       "      <td>3</td>\n",
       "      <td>1</td>\n",
       "      <td>1780</td>\n",
       "      <td>7470</td>\n",
       "      <td>1</td>\n",
       "      <td>3</td>\n",
       "      <td>7</td>\n",
       "      <td>730</td>\n",
       "      <td>1960</td>\n",
       "      <td>229500</td>\n",
       "    </tr>\n",
       "  </tbody>\n",
       "</table>\n",
       "</div>"
      ],
      "text/plain": [
       "   numero_cuartos  numero_baños  area_de_ construcción_pie2  \\\n",
       "0               3             1                        1180   \n",
       "1               2             1                         770   \n",
       "2               4             3                        1960   \n",
       "3               3             2                        1680   \n",
       "4               3             1                        1780   \n",
       "\n",
       "   area_del lote_pie2  numero_pisos  condición  grado  superficie_sótano_pie2  \\\n",
       "0                5650             1          3      7                       0   \n",
       "1               10000             1          3      6                       0   \n",
       "2                5000             1          5      7                     910   \n",
       "3                8080             1          3      8                       0   \n",
       "4                7470             1          3      7                     730   \n",
       "\n",
       "   año_de_construcción  precio  \n",
       "0                 1955  221900  \n",
       "1                 1933  180000  \n",
       "2                 1965  604000  \n",
       "3                 1987  510000  \n",
       "4                 1960  229500  "
      ]
     },
     "execution_count": 95,
     "metadata": {},
     "output_type": "execute_result"
    }
   ],
   "source": [
    "#Validamos los datos del CSV\n",
    "data.head()"
   ]
  },
  {
   "cell_type": "code",
   "execution_count": 96,
   "id": "d9821969",
   "metadata": {},
   "outputs": [
    {
     "data": {
      "text/plain": [
       "(5466, 10)"
      ]
     },
     "execution_count": 96,
     "metadata": {},
     "output_type": "execute_result"
    }
   ],
   "source": [
    "data.shape"
   ]
  },
  {
   "cell_type": "markdown",
   "id": "46d66153",
   "metadata": {},
   "source": [
    "### Preparación de los datos (valores repetidos y nulos)"
   ]
  },
  {
   "cell_type": "code",
   "execution_count": 118,
   "id": "57a80e11",
   "metadata": {},
   "outputs": [],
   "source": [
    "#Se recomienda verificar las ausencias en otro archivo distinto\n",
    "data_t = data"
   ]
  },
  {
   "cell_type": "code",
   "execution_count": 119,
   "id": "236e4b41",
   "metadata": {},
   "outputs": [
    {
     "data": {
      "text/plain": [
       "numero_cuartos                0.0\n",
       "numero_baños                  0.0\n",
       "area_de_ construcción_pie2    0.0\n",
       "area_del lote_pie2            0.0\n",
       "numero_pisos                  0.0\n",
       "condición                     0.0\n",
       "grado                         0.0\n",
       "superficie_sótano_pie2        0.0\n",
       "año_de_construcción           0.0\n",
       "precio                        0.0\n",
       "dtype: float64"
      ]
     },
     "execution_count": 119,
     "metadata": {},
     "output_type": "execute_result"
    }
   ],
   "source": [
    "#Comprobamos las ausencias\n",
    "data_t.isna().sum()/len(data_t)"
   ]
  },
  {
   "cell_type": "markdown",
   "id": "8c369dec",
   "metadata": {},
   "source": [
    "##### Verificamos que no hay ningún dato faltante."
   ]
  },
  {
   "cell_type": "code",
   "execution_count": 120,
   "id": "5bc9633c",
   "metadata": {},
   "outputs": [],
   "source": [
    "# En caso de querer eliminar ausencias si las hubiera usaríamos la función data=data_t.dopna()"
   ]
  },
  {
   "cell_type": "code",
   "execution_count": 121,
   "id": "d6b474c7",
   "metadata": {},
   "outputs": [],
   "source": [
    "# Eliminamos los datos duplicados\n",
    "data_t = data_t.drop_duplicates()"
   ]
  },
  {
   "cell_type": "code",
   "execution_count": 122,
   "id": "12e84a0b",
   "metadata": {},
   "outputs": [
    {
     "data": {
      "text/plain": [
       "(5465, 10)"
      ]
     },
     "execution_count": 122,
     "metadata": {},
     "output_type": "execute_result"
    }
   ],
   "source": [
    "#Vemos que se eliminó un dato duplicado\n",
    "data_t.shape"
   ]
  },
  {
   "cell_type": "markdown",
   "id": "3b5daf24",
   "metadata": {},
   "source": [
    "### Construcción del modelo.\n",
    "\n",
    "Los algoritmos supervisados implementados en scikit-learn requiere que las variables de entrada sean separadas de la variable objetivo, en nuestro caso, la variable objetivo es 'precio'."
   ]
  },
  {
   "cell_type": "code",
   "execution_count": 123,
   "id": "841e7944",
   "metadata": {},
   "outputs": [],
   "source": [
    "#Seleccionamos la variable objetivo, precio\n",
    "y = data_t['precio']\n",
    "#La separamos del resto de datos\n",
    "x = data_t.drop(['precio'], axis=1)\n",
    "x = x.drop(['numero_baños'], axis=1)\n",
    "x = x.drop(['area_del lote_pie2'], axis=1)"
   ]
  },
  {
   "cell_type": "code",
   "execution_count": 124,
   "id": "cd15b75f",
   "metadata": {},
   "outputs": [
    {
     "data": {
      "text/html": [
       "<div>\n",
       "<style scoped>\n",
       "    .dataframe tbody tr th:only-of-type {\n",
       "        vertical-align: middle;\n",
       "    }\n",
       "\n",
       "    .dataframe tbody tr th {\n",
       "        vertical-align: top;\n",
       "    }\n",
       "\n",
       "    .dataframe thead th {\n",
       "        text-align: right;\n",
       "    }\n",
       "</style>\n",
       "<table border=\"1\" class=\"dataframe\">\n",
       "  <thead>\n",
       "    <tr style=\"text-align: right;\">\n",
       "      <th></th>\n",
       "      <th>numero_cuartos</th>\n",
       "      <th>area_de_ construcción_pie2</th>\n",
       "      <th>numero_pisos</th>\n",
       "      <th>condición</th>\n",
       "      <th>grado</th>\n",
       "      <th>superficie_sótano_pie2</th>\n",
       "      <th>año_de_construcción</th>\n",
       "    </tr>\n",
       "  </thead>\n",
       "  <tbody>\n",
       "    <tr>\n",
       "      <th>0</th>\n",
       "      <td>3</td>\n",
       "      <td>1180</td>\n",
       "      <td>1</td>\n",
       "      <td>3</td>\n",
       "      <td>7</td>\n",
       "      <td>0</td>\n",
       "      <td>1955</td>\n",
       "    </tr>\n",
       "    <tr>\n",
       "      <th>1</th>\n",
       "      <td>2</td>\n",
       "      <td>770</td>\n",
       "      <td>1</td>\n",
       "      <td>3</td>\n",
       "      <td>6</td>\n",
       "      <td>0</td>\n",
       "      <td>1933</td>\n",
       "    </tr>\n",
       "    <tr>\n",
       "      <th>2</th>\n",
       "      <td>4</td>\n",
       "      <td>1960</td>\n",
       "      <td>1</td>\n",
       "      <td>5</td>\n",
       "      <td>7</td>\n",
       "      <td>910</td>\n",
       "      <td>1965</td>\n",
       "    </tr>\n",
       "    <tr>\n",
       "      <th>3</th>\n",
       "      <td>3</td>\n",
       "      <td>1680</td>\n",
       "      <td>1</td>\n",
       "      <td>3</td>\n",
       "      <td>8</td>\n",
       "      <td>0</td>\n",
       "      <td>1987</td>\n",
       "    </tr>\n",
       "    <tr>\n",
       "      <th>4</th>\n",
       "      <td>3</td>\n",
       "      <td>1780</td>\n",
       "      <td>1</td>\n",
       "      <td>3</td>\n",
       "      <td>7</td>\n",
       "      <td>730</td>\n",
       "      <td>1960</td>\n",
       "    </tr>\n",
       "  </tbody>\n",
       "</table>\n",
       "</div>"
      ],
      "text/plain": [
       "   numero_cuartos  area_de_ construcción_pie2  numero_pisos  condición  grado  \\\n",
       "0               3                        1180             1          3      7   \n",
       "1               2                         770             1          3      6   \n",
       "2               4                        1960             1          5      7   \n",
       "3               3                        1680             1          3      8   \n",
       "4               3                        1780             1          3      7   \n",
       "\n",
       "   superficie_sótano_pie2  año_de_construcción  \n",
       "0                       0                 1955  \n",
       "1                       0                 1933  \n",
       "2                     910                 1965  \n",
       "3                       0                 1987  \n",
       "4                     730                 1960  "
      ]
     },
     "execution_count": 124,
     "metadata": {},
     "output_type": "execute_result"
    }
   ],
   "source": [
    "x.head()"
   ]
  },
  {
   "cell_type": "code",
   "execution_count": 125,
   "id": "15325521",
   "metadata": {},
   "outputs": [
    {
     "data": {
      "text/plain": [
       "0    221900\n",
       "1    180000\n",
       "2    604000\n",
       "3    510000\n",
       "4    229500\n",
       "Name: precio, dtype: int64"
      ]
     },
     "execution_count": 125,
     "metadata": {},
     "output_type": "execute_result"
    }
   ],
   "source": [
    "y.head()"
   ]
  },
  {
   "cell_type": "code",
   "execution_count": 141,
   "id": "155a3e24",
   "metadata": {},
   "outputs": [],
   "source": [
    "#Separamos los datos en un conjunto de Train Data y Test Data\n",
    "X_train, X_test, Y_train, Y_test = train_test_split( x, y, test_size = 0.2, random_state=0)"
   ]
  },
  {
   "cell_type": "code",
   "execution_count": 140,
   "id": "24caaae5",
   "metadata": {},
   "outputs": [
    {
     "data": {
      "text/plain": [
       "LinearRegression()"
      ]
     },
     "execution_count": 140,
     "metadata": {},
     "output_type": "execute_result"
    }
   ],
   "source": [
    "#Cremos un objeto de la Clase LinearRegression\n",
    "modelo_regresion = LinearRegression()\n",
    "#Entrenamos el modelo con los datos de entrenamiento\n",
    "modelo_regresion.fit(X_train, Y_train)"
   ]
  },
  {
   "cell_type": "markdown",
   "id": "cd4a4aea",
   "metadata": {},
   "source": [
    "### Evaluación del modelo.\n",
    "1. Mean-Square-Error(MSE). Error Medio Cuadrático\n",
    "2. Mean-Absolute-Error(MAE). Error Absoluto Medio\n",
    "3. R^2 o Coeficiciente de determinación."
   ]
  },
  {
   "cell_type": "code",
   "execution_count": 135,
   "id": "e531a013",
   "metadata": {},
   "outputs": [
    {
     "name": "stdout",
     "output_type": "stream",
     "text": [
      "MSE: 16189302883.18\n",
      "RMSE: 127237.19\n",
      "MAE: 96527.94\n",
      "R2: 0.50\n"
     ]
    }
   ],
   "source": [
    "#Predicciones sobre el modelo del conjunto de entrenamiento\n",
    "y_pred = modelo_regresion.predict(X_train)\n",
    "#Obtenemos las métricas de evaluación del modelo.\n",
    "print('MSE: %.2f' % mean_squared_error(Y_train, y_pred, squared = True))\n",
    "print('RMSE: %.2f' % mean_squared_error(Y_train, y_pred, squared = False))\n",
    "print('MAE: %.2f' % mean_absolute_error(Y_train, y_pred))\n",
    "print('R2: %.2f' % r2_score(Y_train, y_pred))"
   ]
  },
  {
   "cell_type": "code",
   "execution_count": 136,
   "id": "a4610bd8",
   "metadata": {},
   "outputs": [
    {
     "name": "stdout",
     "output_type": "stream",
     "text": [
      "MSE: 14759648979.79\n",
      "RMSE: 121489.30\n",
      "MAE: 95771.36\n",
      "R2: 0.53\n"
     ]
    }
   ],
   "source": [
    "#Predicciones sobre el modelo del conjunto de test\n",
    "y_pred = modelo_regresion.predict(X_test)\n",
    "#Obtenemos las métricas de evaluación del modelo.\n",
    "print('MSE: %.2f' % mean_squared_error(Y_test, y_pred, squared = True))\n",
    "print('RMSE: %.2f' % mean_squared_error(Y_test, y_pred, squared = False))\n",
    "print('MAE: %.2f' % mean_absolute_error(Y_test, y_pred))\n",
    "print('R2: %.2f' % r2_score(Y_test, y_pred))"
   ]
  },
  {
   "cell_type": "code",
   "execution_count": 137,
   "id": "5a018a92",
   "metadata": {},
   "outputs": [
    {
     "data": {
      "text/plain": [
       "LinearRegression()"
      ]
     },
     "execution_count": 137,
     "metadata": {},
     "output_type": "execute_result"
    }
   ],
   "source": [
    "#Ajustar el modelo con los datos\n",
    "modelo_regresion.fit(x,y)"
   ]
  },
  {
   "cell_type": "code",
   "execution_count": 138,
   "id": "25c73c99",
   "metadata": {},
   "outputs": [
    {
     "data": {
      "text/plain": [
       "array([-1.33461949e+04,  9.66028486e+01,  5.71401805e+04,  1.13512505e+04,\n",
       "        8.96020014e+04,  2.09989551e+01, -2.33325179e+03])"
      ]
     },
     "execution_count": 138,
     "metadata": {},
     "output_type": "execute_result"
    }
   ],
   "source": [
    "#Podemos observar los coeficientes de cada una de las métricas\n",
    "modelo_regresion.coef_"
   ]
  },
  {
   "cell_type": "code",
   "execution_count": 139,
   "id": "de0a39c4",
   "metadata": {},
   "outputs": [
    {
     "data": {
      "text/plain": [
       "4117688.4795658886"
      ]
     },
     "execution_count": 139,
     "metadata": {},
     "output_type": "execute_result"
    }
   ],
   "source": [
    "#Podemos ver además el intercepto del modelo\n",
    "modelo_regresion.intercept_"
   ]
  },
  {
   "cell_type": "code",
   "execution_count": 134,
   "id": "1a497674",
   "metadata": {},
   "outputs": [
    {
     "data": {
      "text/html": [
       "<table class=\"simpletable\">\n",
       "<caption>OLS Regression Results</caption>\n",
       "<tr>\n",
       "  <th>Dep. Variable:</th>         <td>precio</td>      <th>  R-squared (uncentered):</th>      <td>   0.900</td> \n",
       "</tr>\n",
       "<tr>\n",
       "  <th>Model:</th>                   <td>OLS</td>       <th>  Adj. R-squared (uncentered):</th> <td>   0.900</td> \n",
       "</tr>\n",
       "<tr>\n",
       "  <th>Method:</th>             <td>Least Squares</td>  <th>  F-statistic:       </th>          <td>   7030.</td> \n",
       "</tr>\n",
       "<tr>\n",
       "  <th>Date:</th>             <td>Mon, 11 Apr 2022</td> <th>  Prob (F-statistic):</th>           <td>  0.00</td>  \n",
       "</tr>\n",
       "<tr>\n",
       "  <th>Time:</th>                 <td>17:33:40</td>     <th>  Log-Likelihood:    </th>          <td> -72310.</td> \n",
       "</tr>\n",
       "<tr>\n",
       "  <th>No. Observations:</th>      <td>  5465</td>      <th>  AIC:               </th>          <td>1.446e+05</td>\n",
       "</tr>\n",
       "<tr>\n",
       "  <th>Df Residuals:</th>          <td>  5458</td>      <th>  BIC:               </th>          <td>1.447e+05</td>\n",
       "</tr>\n",
       "<tr>\n",
       "  <th>Df Model:</th>              <td>     7</td>      <th>                     </th>              <td> </td>    \n",
       "</tr>\n",
       "<tr>\n",
       "  <th>Covariance Type:</th>      <td>nonrobust</td>    <th>                     </th>              <td> </td>    \n",
       "</tr>\n",
       "</table>\n",
       "<table class=\"simpletable\">\n",
       "<tr>\n",
       "               <td></td>                 <th>coef</th>     <th>std err</th>      <th>t</th>      <th>P>|t|</th>  <th>[0.025</th>    <th>0.975]</th>  \n",
       "</tr>\n",
       "<tr>\n",
       "  <th>numero_cuartos</th>             <td>-1.968e+04</td> <td> 2544.769</td> <td>   -7.733</td> <td> 0.000</td> <td>-2.47e+04</td> <td>-1.47e+04</td>\n",
       "</tr>\n",
       "<tr>\n",
       "  <th>area_de_ construcción_pie2</th> <td>   82.8521</td> <td>    5.239</td> <td>   15.815</td> <td> 0.000</td> <td>   72.582</td> <td>   93.122</td>\n",
       "</tr>\n",
       "<tr>\n",
       "  <th>numero_pisos</th>               <td> 4.193e+04</td> <td> 5187.569</td> <td>    8.084</td> <td> 0.000</td> <td> 3.18e+04</td> <td> 5.21e+04</td>\n",
       "</tr>\n",
       "<tr>\n",
       "  <th>condición</th>                  <td> 2.535e+04</td> <td> 2640.170</td> <td>    9.601</td> <td> 0.000</td> <td> 2.02e+04</td> <td> 3.05e+04</td>\n",
       "</tr>\n",
       "<tr>\n",
       "  <th>grado</th>                      <td> 7.539e+04</td> <td> 2899.948</td> <td>   25.998</td> <td> 0.000</td> <td> 6.97e+04</td> <td> 8.11e+04</td>\n",
       "</tr>\n",
       "<tr>\n",
       "  <th>superficie_sótano_pie2</th>     <td>   45.6406</td> <td>    6.705</td> <td>    6.807</td> <td> 0.000</td> <td>   32.495</td> <td>   58.786</td>\n",
       "</tr>\n",
       "<tr>\n",
       "  <th>año_de_construcción</th>        <td> -177.4496</td> <td>   10.410</td> <td>  -17.046</td> <td> 0.000</td> <td> -197.857</td> <td> -157.042</td>\n",
       "</tr>\n",
       "</table>\n",
       "<table class=\"simpletable\">\n",
       "<tr>\n",
       "  <th>Omnibus:</th>       <td>874.097</td> <th>  Durbin-Watson:     </th> <td>   1.991</td>\n",
       "</tr>\n",
       "<tr>\n",
       "  <th>Prob(Omnibus):</th> <td> 0.000</td>  <th>  Jarque-Bera (JB):  </th> <td>2127.687</td>\n",
       "</tr>\n",
       "<tr>\n",
       "  <th>Skew:</th>          <td> 0.901</td>  <th>  Prob(JB):          </th> <td>    0.00</td>\n",
       "</tr>\n",
       "<tr>\n",
       "  <th>Kurtosis:</th>      <td> 5.469</td>  <th>  Cond. No.          </th> <td>7.19e+03</td>\n",
       "</tr>\n",
       "</table><br/><br/>Notes:<br/>[1] R² is computed without centering (uncentered) since the model does not contain a constant.<br/>[2] Standard Errors assume that the covariance matrix of the errors is correctly specified.<br/>[3] The condition number is large, 7.19e+03. This might indicate that there are<br/>strong multicollinearity or other numerical problems."
      ],
      "text/plain": [
       "<class 'statsmodels.iolib.summary.Summary'>\n",
       "\"\"\"\n",
       "                                 OLS Regression Results                                \n",
       "=======================================================================================\n",
       "Dep. Variable:                 precio   R-squared (uncentered):                   0.900\n",
       "Model:                            OLS   Adj. R-squared (uncentered):              0.900\n",
       "Method:                 Least Squares   F-statistic:                              7030.\n",
       "Date:                Mon, 11 Apr 2022   Prob (F-statistic):                        0.00\n",
       "Time:                        17:33:40   Log-Likelihood:                         -72310.\n",
       "No. Observations:                5465   AIC:                                  1.446e+05\n",
       "Df Residuals:                    5458   BIC:                                  1.447e+05\n",
       "Df Model:                           7                                                  \n",
       "Covariance Type:            nonrobust                                                  \n",
       "==============================================================================================\n",
       "                                 coef    std err          t      P>|t|      [0.025      0.975]\n",
       "----------------------------------------------------------------------------------------------\n",
       "numero_cuartos             -1.968e+04   2544.769     -7.733      0.000   -2.47e+04   -1.47e+04\n",
       "area_de_ construcción_pie2    82.8521      5.239     15.815      0.000      72.582      93.122\n",
       "numero_pisos                4.193e+04   5187.569      8.084      0.000    3.18e+04    5.21e+04\n",
       "condición                   2.535e+04   2640.170      9.601      0.000    2.02e+04    3.05e+04\n",
       "grado                       7.539e+04   2899.948     25.998      0.000    6.97e+04    8.11e+04\n",
       "superficie_sótano_pie2        45.6406      6.705      6.807      0.000      32.495      58.786\n",
       "año_de_construcción         -177.4496     10.410    -17.046      0.000    -197.857    -157.042\n",
       "==============================================================================\n",
       "Omnibus:                      874.097   Durbin-Watson:                   1.991\n",
       "Prob(Omnibus):                  0.000   Jarque-Bera (JB):             2127.687\n",
       "Skew:                           0.901   Prob(JB):                         0.00\n",
       "Kurtosis:                       5.469   Cond. No.                     7.19e+03\n",
       "==============================================================================\n",
       "\n",
       "Notes:\n",
       "[1] R² is computed without centering (uncentered) since the model does not contain a constant.\n",
       "[2] Standard Errors assume that the covariance matrix of the errors is correctly specified.\n",
       "[3] The condition number is large, 7.19e+03. This might indicate that there are\n",
       "strong multicollinearity or other numerical problems.\n",
       "\"\"\""
      ]
     },
     "execution_count": 134,
     "metadata": {},
     "output_type": "execute_result"
    }
   ],
   "source": [
    "model = sm.OLS(y, x).fit()\n",
    "model.summary()"
   ]
  },
  {
   "cell_type": "markdown",
   "id": "2cd8b114",
   "metadata": {},
   "source": [
    "## 4. Modelo de regresión Ridge\n",
    "\n",
    "El objetivo de esta sección es mostrar cómo construir un modelo de regresión con técnicas de regularización, con ajuste de hiperparámetros con técnicas de validación. En este caso utilizaremos regularización norma L2, que en el contexto de regresión se conoce como Ridge. Se explicará, paso a paso, como:\n",
    "\n",
    "1. Preparar los datos para el modelado.\n",
    "2. Utilizar técnicas de validación para el ajuste de hiperparámetros.\n",
    "3. Construir un modelo con regresión Ridge.\n",
    "4. Evaluar el modelo.\n",
    "\n",
    "Se utiliza el conjunto de datos relacionado con la venta de inmuebles. "
   ]
  },
  {
   "cell_type": "code",
   "execution_count": 143,
   "id": "66b2fc8f",
   "metadata": {},
   "outputs": [
    {
     "data": {
      "text/html": [
       "<div>\n",
       "<style scoped>\n",
       "    .dataframe tbody tr th:only-of-type {\n",
       "        vertical-align: middle;\n",
       "    }\n",
       "\n",
       "    .dataframe tbody tr th {\n",
       "        vertical-align: top;\n",
       "    }\n",
       "\n",
       "    .dataframe thead th {\n",
       "        text-align: right;\n",
       "    }\n",
       "</style>\n",
       "<table border=\"1\" class=\"dataframe\">\n",
       "  <thead>\n",
       "    <tr style=\"text-align: right;\">\n",
       "      <th></th>\n",
       "      <th>numero_cuartos</th>\n",
       "      <th>numero_baños</th>\n",
       "      <th>area_de_ construcción_pie2</th>\n",
       "      <th>area_del lote_pie2</th>\n",
       "      <th>numero_pisos</th>\n",
       "      <th>condición</th>\n",
       "      <th>grado</th>\n",
       "      <th>superficie_sótano_pie2</th>\n",
       "      <th>año_de_construcción</th>\n",
       "      <th>precio</th>\n",
       "    </tr>\n",
       "  </thead>\n",
       "  <tbody>\n",
       "    <tr>\n",
       "      <th>0</th>\n",
       "      <td>3</td>\n",
       "      <td>1</td>\n",
       "      <td>1180</td>\n",
       "      <td>5650</td>\n",
       "      <td>1</td>\n",
       "      <td>3</td>\n",
       "      <td>7</td>\n",
       "      <td>0</td>\n",
       "      <td>1955</td>\n",
       "      <td>221900</td>\n",
       "    </tr>\n",
       "    <tr>\n",
       "      <th>1</th>\n",
       "      <td>2</td>\n",
       "      <td>1</td>\n",
       "      <td>770</td>\n",
       "      <td>10000</td>\n",
       "      <td>1</td>\n",
       "      <td>3</td>\n",
       "      <td>6</td>\n",
       "      <td>0</td>\n",
       "      <td>1933</td>\n",
       "      <td>180000</td>\n",
       "    </tr>\n",
       "    <tr>\n",
       "      <th>2</th>\n",
       "      <td>4</td>\n",
       "      <td>3</td>\n",
       "      <td>1960</td>\n",
       "      <td>5000</td>\n",
       "      <td>1</td>\n",
       "      <td>5</td>\n",
       "      <td>7</td>\n",
       "      <td>910</td>\n",
       "      <td>1965</td>\n",
       "      <td>604000</td>\n",
       "    </tr>\n",
       "    <tr>\n",
       "      <th>3</th>\n",
       "      <td>3</td>\n",
       "      <td>2</td>\n",
       "      <td>1680</td>\n",
       "      <td>8080</td>\n",
       "      <td>1</td>\n",
       "      <td>3</td>\n",
       "      <td>8</td>\n",
       "      <td>0</td>\n",
       "      <td>1987</td>\n",
       "      <td>510000</td>\n",
       "    </tr>\n",
       "    <tr>\n",
       "      <th>4</th>\n",
       "      <td>3</td>\n",
       "      <td>1</td>\n",
       "      <td>1780</td>\n",
       "      <td>7470</td>\n",
       "      <td>1</td>\n",
       "      <td>3</td>\n",
       "      <td>7</td>\n",
       "      <td>730</td>\n",
       "      <td>1960</td>\n",
       "      <td>229500</td>\n",
       "    </tr>\n",
       "  </tbody>\n",
       "</table>\n",
       "</div>"
      ],
      "text/plain": [
       "   numero_cuartos  numero_baños  area_de_ construcción_pie2  \\\n",
       "0               3             1                        1180   \n",
       "1               2             1                         770   \n",
       "2               4             3                        1960   \n",
       "3               3             2                        1680   \n",
       "4               3             1                        1780   \n",
       "\n",
       "   area_del lote_pie2  numero_pisos  condición  grado  superficie_sótano_pie2  \\\n",
       "0                5650             1          3      7                       0   \n",
       "1               10000             1          3      6                       0   \n",
       "2                5000             1          5      7                     910   \n",
       "3                8080             1          3      8                       0   \n",
       "4                7470             1          3      7                     730   \n",
       "\n",
       "   año_de_construcción  precio  \n",
       "0                 1955  221900  \n",
       "1                 1933  180000  \n",
       "2                 1965  604000  \n",
       "3                 1987  510000  \n",
       "4                 1960  229500  "
      ]
     },
     "execution_count": 143,
     "metadata": {},
     "output_type": "execute_result"
    }
   ],
   "source": [
    "# Librería para comando de sistema\n",
    "import os\n",
    "# Librerías para manejo de datos\n",
    "import pandas as pd\n",
    "# Para realizar la separación del conjunto de aprendizaje en entrenamiento y test.\n",
    "from sklearn.model_selection import train_test_split\n",
    "# Para la creación de modelo Ridge\n",
    "from sklearn.linear_model import Ridge\n",
    "# Para búsqueda de hiperparámetros\n",
    "from sklearn.model_selection import GridSearchCV\n",
    "# Para la validación cruzada\n",
    "from sklearn.model_selection import KFold \n",
    "# Para determinar el rendimiento del modelo con las métricas MSE, MAE y R2\n",
    "from sklearn.metrics import mean_squared_error, mean_absolute_error, r2_score\n",
    "data = pd.read_csv('venta_inmuebles_data.csv', sep=';')\n",
    "data.head()"
   ]
  },
  {
   "cell_type": "code",
   "execution_count": 144,
   "id": "8fb4b34e",
   "metadata": {},
   "outputs": [
    {
     "data": {
      "text/plain": [
       "(5466, 10)"
      ]
     },
     "execution_count": 144,
     "metadata": {},
     "output_type": "execute_result"
    }
   ],
   "source": [
    "# Cantidad de datos y número de variables\n",
    "data.shape"
   ]
  },
  {
   "cell_type": "code",
   "execution_count": 146,
   "id": "5915e9d8",
   "metadata": {},
   "outputs": [
    {
     "data": {
      "text/plain": [
       "(5465, 10)"
      ]
     },
     "execution_count": 146,
     "metadata": {},
     "output_type": "execute_result"
    }
   ],
   "source": [
    "# Es recomendable que todos los pasos de preparación se realicen sobre otro archivo.\n",
    "data_t = data\n",
    "# Eliminación data vacía.\n",
    "data_t=data_t.dropna()\n",
    "# Eliminación de registros duplicados.\n",
    "data_t=data_t.drop_duplicates()\n",
    "# El tamaño de los datos preparados\n",
    "data_t.shape"
   ]
  },
  {
   "cell_type": "markdown",
   "id": "713afeff",
   "metadata": {},
   "source": [
    "### Contrucción del modelo"
   ]
  },
  {
   "cell_type": "code",
   "execution_count": 147,
   "id": "5dead227",
   "metadata": {},
   "outputs": [],
   "source": [
    "# Se selecciona la variable objetivo, en este caso \"precio\".\n",
    "Y=data_t['precio']\n",
    "# Del conjunto de datos se elimina la variable \"precio\".\n",
    "X=data_t.drop(['precio'], axis=1)"
   ]
  },
  {
   "cell_type": "code",
   "execution_count": 148,
   "id": "4134ec73",
   "metadata": {},
   "outputs": [],
   "source": [
    "# Se realiza la división entrenamiento - test. Se deja 20% de los datos para el test.\n",
    "X_train, X_test, Y_train, Y_test = train_test_split(X, Y, test_size = 0.20, random_state = 0)"
   ]
  },
  {
   "cell_type": "markdown",
   "id": "83862950",
   "metadata": {},
   "source": [
    "La regresión Ridge utiliza la norma L2 del vector de coeficientes como término de regularización. Para controlar la cantidad de regularización se utiliza el hiperparámetro alpha. Probemos con un valor igual a 2."
   ]
  },
  {
   "cell_type": "code",
   "execution_count": 149,
   "id": "f91d9512",
   "metadata": {},
   "outputs": [
    {
     "data": {
      "text/plain": [
       "Ridge(alpha=2, normalize='True')"
      ]
     },
     "execution_count": 149,
     "metadata": {},
     "output_type": "execute_result"
    }
   ],
   "source": [
    "modelo_ridge = Ridge(alpha=2, normalize = \"True\")\n",
    "modelo_ridge"
   ]
  },
  {
   "cell_type": "code",
   "execution_count": 150,
   "id": "e5742a4d",
   "metadata": {},
   "outputs": [
    {
     "data": {
      "text/plain": [
       "Ridge(alpha=2, normalize='True')"
      ]
     },
     "execution_count": 150,
     "metadata": {},
     "output_type": "execute_result"
    }
   ],
   "source": [
    "# Ajuste del modelo\n",
    "modelo_ridge.fit(X_train,Y_train)"
   ]
  },
  {
   "cell_type": "code",
   "execution_count": 151,
   "id": "e5b431c5",
   "metadata": {},
   "outputs": [
    {
     "name": "stdout",
     "output_type": "stream",
     "text": [
      "RMSE: 140219.24\n",
      "MAE: 113244.91\n",
      "R²: 0.37\n"
     ]
    }
   ],
   "source": [
    "# Ahora probemos el rendimiento sobre el conjunto test.\n",
    "y_pred = modelo_ridge.predict(X_test)\n",
    "print(\"RMSE: %.2f\" % mean_squared_error(Y_test, y_pred, squared=False))\n",
    "print(\"MAE: %.2f\" % mean_absolute_error(Y_test, y_pred))\n",
    "print('R²: %.2f' % r2_score(Y_test, y_pred))"
   ]
  },
  {
   "cell_type": "markdown",
   "id": "137e96ff",
   "metadata": {},
   "source": [
    "Pero ¿Cómo saber el mejor valor de alpha? Este hiperparámetro hay que ajustarlo a los datos y no podemos utilizar el conjunto test para realizar esta tarea. Debemos entonces recurrir a las técnicas de validación las cuales, en general, puedes implementarlas de dos maneras: utilizando un conjunto de validación o empleando la validación cruzada de k particiones (k-fold cross validation).\n",
    "\n",
    "a) Con un conjunto de validación. Si utilizas esta vía el conjunto de entrenamiento hay que dividirlo en dos: uno para la construcción del modelo (sería el nuevo conjunto de entrenamiento) y el otro para la validación (para determinar los valores de los hiperparámetros y complejidad). \n",
    "\n",
    "Veamos cómo hacerlo."
   ]
  },
  {
   "cell_type": "code",
   "execution_count": 152,
   "id": "558fb9cd",
   "metadata": {},
   "outputs": [],
   "source": [
    "# Fijemos el número de particiones. Utilizaremos K = 10.\n",
    "particiones = KFold(n_splits=10, shuffle=True, random_state = 0)"
   ]
  },
  {
   "cell_type": "code",
   "execution_count": 154,
   "id": "f6dc6b0f",
   "metadata": {},
   "outputs": [],
   "source": [
    "# Ahora tenemos que definir el espacio de búsqueda, es decir, los valores de alpha que queremos que sean considerados. \n",
    "# Para esto se define un diccionario (o grilla) con los valores que podrá asumir el hiperparámetro alpha.\n",
    "# Probemos con los siguientes valores:\n",
    "param_grid = {'alpha': [0.1, 0.25, 0.5]}"
   ]
  },
  {
   "cell_type": "code",
   "execution_count": 155,
   "id": "3b896b7f",
   "metadata": {},
   "outputs": [],
   "source": [
    "# Definimos el modelo sin ningún valor del hiperparámetro alpha\n",
    "modelo_ridge = Ridge(normalize = 'True')"
   ]
  },
  {
   "cell_type": "code",
   "execution_count": 156,
   "id": "b5d13275",
   "metadata": {},
   "outputs": [
    {
     "data": {
      "text/plain": [
       "GridSearchCV(cv=KFold(n_splits=10, random_state=0, shuffle=True),\n",
       "             estimator=Ridge(normalize='True'), n_jobs=-1,\n",
       "             param_grid={'alpha': [0.1, 0.25, 0.5]})"
      ]
     },
     "execution_count": 156,
     "metadata": {},
     "output_type": "execute_result"
    }
   ],
   "source": [
    "# Ahora utilizamos GridSearch sobre el grid definido y con 10 particiones en la validación cruzada.\n",
    "mejor_modelo = GridSearchCV(modelo_ridge, param_grid, cv=particiones, n_jobs=-1)\n",
    "# Ajuste del modelo\n",
    "mejor_modelo.fit(X_train, Y_train)"
   ]
  },
  {
   "cell_type": "code",
   "execution_count": 157,
   "id": "daad2539",
   "metadata": {},
   "outputs": [
    {
     "name": "stdout",
     "output_type": "stream",
     "text": [
      "Mejor parámetro: {'alpha': 0.1}\n"
     ]
    }
   ],
   "source": [
    "# Podemos ver cual fue el resultado de la búsqueda (mejor valor de alpha)\n",
    "print(\"Mejor parámetro: {}\".format(mejor_modelo.best_params_)) "
   ]
  },
  {
   "cell_type": "code",
   "execution_count": 158,
   "id": "fec34df1",
   "metadata": {},
   "outputs": [
    {
     "name": "stdout",
     "output_type": "stream",
     "text": [
      "Mejor parámetro: {'alpha': 0.1}\n"
     ]
    }
   ],
   "source": [
    "# También puedes indicarle a GridSearch que seleccione el mejor modelo a partir de la búsqueda con base en una métrica \n",
    "# particular. Por ejemplo, hubiésemos podido utilizar la siguiente línea de comando:\n",
    "mejor_modelo = GridSearchCV(modelo_ridge, param_grid, scoring = 'neg_mean_absolute_error', n_jobs=-1)\n",
    "mejor_modelo.fit(X_train, Y_train)\n",
    "print(\"Mejor parámetro: {}\".format(mejor_modelo.best_params_)) "
   ]
  },
  {
   "cell_type": "code",
   "execution_count": 159,
   "id": "eebd4b87",
   "metadata": {},
   "outputs": [
    {
     "name": "stdout",
     "output_type": "stream",
     "text": [
      "RMSE: 120523.88\n",
      "MAE: 95700.59\n",
      "R²: 0.54\n"
     ]
    }
   ],
   "source": [
    "modelo_final = mejor_modelo.best_estimator_\n",
    "# Probemos ahora este modelo sobre test.\n",
    "y_pred = modelo_final.predict(X_test)\n",
    "print(\"RMSE: %.2f\" % mean_squared_error(Y_test, y_pred, squared=False))\n",
    "print(\"MAE: %.2f\" % mean_absolute_error(Y_test, y_pred))\n",
    "print('R²: %.2f' % r2_score(Y_test, y_pred))"
   ]
  },
  {
   "cell_type": "markdown",
   "id": "ee87709c",
   "metadata": {},
   "source": [
    "#### Vemos que con un alpha de 0.1, el modelo de generalización se ajusta mejor a los datos"
   ]
  },
  {
   "cell_type": "markdown",
   "id": "a2bcecc4",
   "metadata": {},
   "source": [
    "## 5. Modelo de regresión Lasso"
   ]
  },
  {
   "cell_type": "code",
   "execution_count": 160,
   "id": "38696700",
   "metadata": {},
   "outputs": [
    {
     "data": {
      "text/html": [
       "<div>\n",
       "<style scoped>\n",
       "    .dataframe tbody tr th:only-of-type {\n",
       "        vertical-align: middle;\n",
       "    }\n",
       "\n",
       "    .dataframe tbody tr th {\n",
       "        vertical-align: top;\n",
       "    }\n",
       "\n",
       "    .dataframe thead th {\n",
       "        text-align: right;\n",
       "    }\n",
       "</style>\n",
       "<table border=\"1\" class=\"dataframe\">\n",
       "  <thead>\n",
       "    <tr style=\"text-align: right;\">\n",
       "      <th></th>\n",
       "      <th>numero_cuartos</th>\n",
       "      <th>numero_baños</th>\n",
       "      <th>area_de_ construcción_pie2</th>\n",
       "      <th>area_del lote_pie2</th>\n",
       "      <th>numero_pisos</th>\n",
       "      <th>condición</th>\n",
       "      <th>grado</th>\n",
       "      <th>superficie_sótano_pie2</th>\n",
       "      <th>año_de_construcción</th>\n",
       "      <th>precio</th>\n",
       "    </tr>\n",
       "  </thead>\n",
       "  <tbody>\n",
       "    <tr>\n",
       "      <th>0</th>\n",
       "      <td>3</td>\n",
       "      <td>1</td>\n",
       "      <td>1180</td>\n",
       "      <td>5650</td>\n",
       "      <td>1</td>\n",
       "      <td>3</td>\n",
       "      <td>7</td>\n",
       "      <td>0</td>\n",
       "      <td>1955</td>\n",
       "      <td>221900</td>\n",
       "    </tr>\n",
       "    <tr>\n",
       "      <th>1</th>\n",
       "      <td>2</td>\n",
       "      <td>1</td>\n",
       "      <td>770</td>\n",
       "      <td>10000</td>\n",
       "      <td>1</td>\n",
       "      <td>3</td>\n",
       "      <td>6</td>\n",
       "      <td>0</td>\n",
       "      <td>1933</td>\n",
       "      <td>180000</td>\n",
       "    </tr>\n",
       "    <tr>\n",
       "      <th>2</th>\n",
       "      <td>4</td>\n",
       "      <td>3</td>\n",
       "      <td>1960</td>\n",
       "      <td>5000</td>\n",
       "      <td>1</td>\n",
       "      <td>5</td>\n",
       "      <td>7</td>\n",
       "      <td>910</td>\n",
       "      <td>1965</td>\n",
       "      <td>604000</td>\n",
       "    </tr>\n",
       "    <tr>\n",
       "      <th>3</th>\n",
       "      <td>3</td>\n",
       "      <td>2</td>\n",
       "      <td>1680</td>\n",
       "      <td>8080</td>\n",
       "      <td>1</td>\n",
       "      <td>3</td>\n",
       "      <td>8</td>\n",
       "      <td>0</td>\n",
       "      <td>1987</td>\n",
       "      <td>510000</td>\n",
       "    </tr>\n",
       "    <tr>\n",
       "      <th>4</th>\n",
       "      <td>3</td>\n",
       "      <td>1</td>\n",
       "      <td>1780</td>\n",
       "      <td>7470</td>\n",
       "      <td>1</td>\n",
       "      <td>3</td>\n",
       "      <td>7</td>\n",
       "      <td>730</td>\n",
       "      <td>1960</td>\n",
       "      <td>229500</td>\n",
       "    </tr>\n",
       "  </tbody>\n",
       "</table>\n",
       "</div>"
      ],
      "text/plain": [
       "   numero_cuartos  numero_baños  area_de_ construcción_pie2  \\\n",
       "0               3             1                        1180   \n",
       "1               2             1                         770   \n",
       "2               4             3                        1960   \n",
       "3               3             2                        1680   \n",
       "4               3             1                        1780   \n",
       "\n",
       "   area_del lote_pie2  numero_pisos  condición  grado  superficie_sótano_pie2  \\\n",
       "0                5650             1          3      7                       0   \n",
       "1               10000             1          3      6                       0   \n",
       "2                5000             1          5      7                     910   \n",
       "3                8080             1          3      8                       0   \n",
       "4                7470             1          3      7                     730   \n",
       "\n",
       "   año_de_construcción  precio  \n",
       "0                 1955  221900  \n",
       "1                 1933  180000  \n",
       "2                 1965  604000  \n",
       "3                 1987  510000  \n",
       "4                 1960  229500  "
      ]
     },
     "execution_count": 160,
     "metadata": {},
     "output_type": "execute_result"
    }
   ],
   "source": [
    "# Librería para comando de sistema\n",
    "import os\n",
    "# Librerías para manejo de datos\n",
    "import pandas as pd\n",
    "# Para realizar la separación del conjunto de aprendizaje en entrenamiento y test.\n",
    "from sklearn.model_selection import train_test_split\n",
    "# Para la creación de modelo Ridge\n",
    "from sklearn.linear_model import Lasso\n",
    "# Para búsqueda de hiperparámetros\n",
    "from sklearn.model_selection import GridSearchCV\n",
    "# Para la validación cruzada\n",
    "from sklearn.model_selection import KFold \n",
    "# Para determinar el rendimiento del modelo con las métricas MSE, MAE y R2\n",
    "from sklearn.metrics import mean_squared_error, mean_absolute_error, r2_score\n",
    "data = pd.read_csv('venta_inmuebles_data.csv', sep=';')\n",
    "data.head()"
   ]
  },
  {
   "cell_type": "code",
   "execution_count": 162,
   "id": "80b339c4",
   "metadata": {},
   "outputs": [
    {
     "data": {
      "text/plain": [
       "(5465, 10)"
      ]
     },
     "execution_count": 162,
     "metadata": {},
     "output_type": "execute_result"
    }
   ],
   "source": [
    "# Es recomendable que todos los pasos de preparación se realicen sobre otro archivo.\n",
    "data_t = data\n",
    "# Eliminación data vacía.\n",
    "data_t=data_t.dropna()\n",
    "# Eliminación de registros duplicados.\n",
    "data_t=data_t.drop_duplicates()\n",
    "# El tamaño de los datos preparados\n",
    "data_t.shape"
   ]
  },
  {
   "cell_type": "markdown",
   "id": "47e76c5d",
   "metadata": {},
   "source": [
    "### Contrucción del modelo"
   ]
  },
  {
   "cell_type": "code",
   "execution_count": 163,
   "id": "84452cfd",
   "metadata": {},
   "outputs": [],
   "source": [
    "# Se selecciona la variable objetivo, en este caso \"precio\".\n",
    "Y=data_t['precio']\n",
    "# Del conjunto de datos se elimina la variable \"precio\".\n",
    "X=data_t.drop(['precio'], axis=1)"
   ]
  },
  {
   "cell_type": "code",
   "execution_count": 164,
   "id": "f1fd4532",
   "metadata": {},
   "outputs": [],
   "source": [
    "# Se realiza la división entrenamiento - test. Se deja 20% de los datos para el test.\n",
    "X_train, X_test, Y_train, Y_test = train_test_split(X, Y, test_size = 0.20, random_state = 0)"
   ]
  },
  {
   "cell_type": "markdown",
   "id": "0bb5b511",
   "metadata": {},
   "source": [
    "La regresión Lasso utiliza la norma L1 del vector de coeficientes como término de regularización. Para controlar la cantidad de regularización se utiliza el hiperparámetro alpha. Probemos con un valor igual a 1."
   ]
  },
  {
   "cell_type": "code",
   "execution_count": 165,
   "id": "59e28e6c",
   "metadata": {},
   "outputs": [
    {
     "data": {
      "text/plain": [
       "Lasso(alpha=1, normalize='True')"
      ]
     },
     "execution_count": 165,
     "metadata": {},
     "output_type": "execute_result"
    }
   ],
   "source": [
    "# Para acelerar la convergencia del algoritmo que utiliza Lasso para optimizar la función de costo, utilizaremos la opción\n",
    "# de normalizar los datos para que todos estén en el mismo rango.\n",
    "modelo_lasso = Lasso(alpha=1, normalize = 'True')\n",
    "modelo_lasso"
   ]
  },
  {
   "cell_type": "code",
   "execution_count": 166,
   "id": "1a798478",
   "metadata": {},
   "outputs": [
    {
     "data": {
      "text/plain": [
       "Lasso(alpha=1, normalize='True')"
      ]
     },
     "execution_count": 166,
     "metadata": {},
     "output_type": "execute_result"
    }
   ],
   "source": [
    "# Ajuste del modelo\n",
    "modelo_lasso.fit(X_train,Y_train)"
   ]
  },
  {
   "cell_type": "code",
   "execution_count": 167,
   "id": "8d70e380",
   "metadata": {},
   "outputs": [
    {
     "name": "stdout",
     "output_type": "stream",
     "text": [
      "RMSE: 120686.11\n",
      "MAE: 95115.78\n",
      "R²: 0.54\n"
     ]
    }
   ],
   "source": [
    "# Ahora probemos el rendimiento sobre el conjunto test.\n",
    "y_pred = modelo_lasso.predict(X_test)\n",
    "print(\"RMSE: %.2f\" % mean_squared_error(Y_test, y_pred, squared=False))\n",
    "print(\"MAE: %.2f\" % mean_absolute_error(Y_test, y_pred))\n",
    "print('R²: %.2f' % r2_score(Y_test, y_pred))"
   ]
  },
  {
   "cell_type": "code",
   "execution_count": 168,
   "id": "10898c5d",
   "metadata": {},
   "outputs": [],
   "source": [
    "# Fijemos el número de particiones. Utilizaremos K = 10.\n",
    "particiones = KFold(n_splits=10, shuffle=True, random_state = 0)"
   ]
  },
  {
   "cell_type": "code",
   "execution_count": 169,
   "id": "d622638e",
   "metadata": {},
   "outputs": [],
   "source": [
    "# Ahora tenemos que definir el espacio de búsqueda, es decir, los valores de alpha que queremos que sean considerados. \n",
    "# Para esto se define un diccionario (o grilla) con los valores que podrá asumir el hiperparámetro alpha.\n",
    "# Probemos con los siguientes valores:\n",
    "param_grid = {'alpha': [0.1, 0.25, 0.5]}"
   ]
  },
  {
   "cell_type": "code",
   "execution_count": 170,
   "id": "70508724",
   "metadata": {},
   "outputs": [],
   "source": [
    "# Definimos el modelo sin ningún valor del hiperparámetro alpha\n",
    "modelo_lasso = Lasso(normalize = 'True')"
   ]
  },
  {
   "cell_type": "code",
   "execution_count": 171,
   "id": "93103936",
   "metadata": {},
   "outputs": [
    {
     "data": {
      "text/plain": [
       "GridSearchCV(cv=KFold(n_splits=10, random_state=0, shuffle=True),\n",
       "             estimator=Lasso(normalize='True'), n_jobs=-1,\n",
       "             param_grid={'alpha': [0.1, 0.25, 0.5]})"
      ]
     },
     "execution_count": 171,
     "metadata": {},
     "output_type": "execute_result"
    }
   ],
   "source": [
    "# Ahora utilizamos GridSearch sobre el grid definido y con 10 particiones en la validación cruzada.\n",
    "mejor_modelo = GridSearchCV(modelo_lasso, param_grid, cv=particiones, n_jobs=-1)\n",
    "# Ajuste del modelo\n",
    "mejor_modelo.fit(X_train, Y_train)"
   ]
  },
  {
   "cell_type": "code",
   "execution_count": 172,
   "id": "941601a2",
   "metadata": {},
   "outputs": [
    {
     "name": "stdout",
     "output_type": "stream",
     "text": [
      "Mejor parámetro: {'alpha': 0.5}\n"
     ]
    }
   ],
   "source": [
    "# Podemos ver cual fue el resultado de la búsqueda (mejor valor de alpha)\n",
    "print(\"Mejor parámetro: {}\".format(mejor_modelo.best_params_)) "
   ]
  },
  {
   "cell_type": "code",
   "execution_count": 173,
   "id": "965ac3be",
   "metadata": {},
   "outputs": [
    {
     "name": "stdout",
     "output_type": "stream",
     "text": [
      "Mejor parámetro: {'alpha': 0.1}\n"
     ]
    }
   ],
   "source": [
    "# También puedes indicarle a GridSearch que seleccione el mejor modelo a partir de la búsqueda con base en una métrica \n",
    "# particular. Por ejemplo, hubiésemos podido utilizar la siguiente línea de comando:\n",
    "mejor_modelo = GridSearchCV(modelo_lasso, param_grid, scoring = 'neg_mean_absolute_error', n_jobs=-1 )\n",
    "mejor_modelo.fit(X_train, Y_train)\n",
    "print(\"Mejor parámetro: {}\".format(mejor_modelo.best_params_)) "
   ]
  },
  {
   "cell_type": "code",
   "execution_count": 174,
   "id": "cfc2d6f7",
   "metadata": {},
   "outputs": [
    {
     "name": "stdout",
     "output_type": "stream",
     "text": [
      "RMSE: 120686.08\n",
      "MAE: 95102.30\n",
      "R²: 0.54\n"
     ]
    }
   ],
   "source": [
    "modelo_final = mejor_modelo.best_estimator_\n",
    "# Probemos ahora este modelo sobre test.\n",
    "y_pred = modelo_final.predict(X_test)\n",
    "print(\"RMSE: %.2f\" % mean_squared_error(Y_test, y_pred, squared=False))\n",
    "print(\"MAE: %.2f\" % mean_absolute_error(Y_test, y_pred))\n",
    "print('R²: %.2f' % r2_score(Y_test, y_pred))"
   ]
  },
  {
   "cell_type": "markdown",
   "id": "6a88126e",
   "metadata": {},
   "source": [
    "5. Importancia de variables y selección\n",
    "\n",
    "La regresión Lasso también actúa como un selector de variables: serán aquellas que tienen un coeficiente diferente de  cero. Entonces, con base en los valores de los coeficientes, podrás determinar la importancia de los atributos en el analisis y predicción. "
   ]
  },
  {
   "cell_type": "code",
   "execution_count": 175,
   "id": "2bfadeba",
   "metadata": {},
   "outputs": [
    {
     "data": {
      "text/html": [
       "<div>\n",
       "<style scoped>\n",
       "    .dataframe tbody tr th:only-of-type {\n",
       "        vertical-align: middle;\n",
       "    }\n",
       "\n",
       "    .dataframe tbody tr th {\n",
       "        vertical-align: top;\n",
       "    }\n",
       "\n",
       "    .dataframe thead th {\n",
       "        text-align: right;\n",
       "    }\n",
       "</style>\n",
       "<table border=\"1\" class=\"dataframe\">\n",
       "  <thead>\n",
       "    <tr style=\"text-align: right;\">\n",
       "      <th></th>\n",
       "      <th>coeficientes</th>\n",
       "      <th>variables</th>\n",
       "    </tr>\n",
       "  </thead>\n",
       "  <tbody>\n",
       "    <tr>\n",
       "      <th>0</th>\n",
       "      <td>-16498.022858</td>\n",
       "      <td>numero_cuartos</td>\n",
       "    </tr>\n",
       "    <tr>\n",
       "      <th>1</th>\n",
       "      <td>31675.244899</td>\n",
       "      <td>numero_baños</td>\n",
       "    </tr>\n",
       "    <tr>\n",
       "      <th>2</th>\n",
       "      <td>80.269117</td>\n",
       "      <td>area_de_ construcción_pie2</td>\n",
       "    </tr>\n",
       "    <tr>\n",
       "      <th>3</th>\n",
       "      <td>0.076429</td>\n",
       "      <td>area_del lote_pie2</td>\n",
       "    </tr>\n",
       "    <tr>\n",
       "      <th>4</th>\n",
       "      <td>44723.162075</td>\n",
       "      <td>numero_pisos</td>\n",
       "    </tr>\n",
       "    <tr>\n",
       "      <th>5</th>\n",
       "      <td>10794.874488</td>\n",
       "      <td>condición</td>\n",
       "    </tr>\n",
       "    <tr>\n",
       "      <th>6</th>\n",
       "      <td>91135.517416</td>\n",
       "      <td>grado</td>\n",
       "    </tr>\n",
       "    <tr>\n",
       "      <th>7</th>\n",
       "      <td>13.587526</td>\n",
       "      <td>superficie_sótano_pie2</td>\n",
       "    </tr>\n",
       "    <tr>\n",
       "      <th>8</th>\n",
       "      <td>-2581.197484</td>\n",
       "      <td>año_de_construcción</td>\n",
       "    </tr>\n",
       "  </tbody>\n",
       "</table>\n",
       "</div>"
      ],
      "text/plain": [
       "   coeficientes                   variables\n",
       "0 -16498.022858              numero_cuartos\n",
       "1  31675.244899                numero_baños\n",
       "2     80.269117  area_de_ construcción_pie2\n",
       "3      0.076429          area_del lote_pie2\n",
       "4  44723.162075                numero_pisos\n",
       "5  10794.874488                   condición\n",
       "6  91135.517416                       grado\n",
       "7     13.587526      superficie_sótano_pie2\n",
       "8  -2581.197484         año_de_construcción"
      ]
     },
     "execution_count": 175,
     "metadata": {},
     "output_type": "execute_result"
    }
   ],
   "source": [
    "# Revisar los parámetros del modelo entrenado\n",
    "coeficientes = modelo_final.coef_\n",
    "variables = X_train.columns\n",
    "# Mostrar en una tabla los valores de los coeficientes para cada variable\n",
    "pd.DataFrame({'coeficientes':coeficientes,'variables':variables})"
   ]
  },
  {
   "cell_type": "code",
   "execution_count": null,
   "id": "7cdf4f97",
   "metadata": {},
   "outputs": [],
   "source": []
  }
 ],
 "metadata": {
  "kernelspec": {
   "display_name": "Python 3 (ipykernel)",
   "language": "python",
   "name": "python3"
  },
  "language_info": {
   "codemirror_mode": {
    "name": "ipython",
    "version": 3
   },
   "file_extension": ".py",
   "mimetype": "text/x-python",
   "name": "python",
   "nbconvert_exporter": "python",
   "pygments_lexer": "ipython3",
   "version": "3.9.7"
  }
 },
 "nbformat": 4,
 "nbformat_minor": 5
}
